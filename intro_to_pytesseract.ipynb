{
 "cells": [
  {
   "cell_type": "code",
   "execution_count": 1,
   "metadata": {},
   "outputs": [],
   "source": [
    "import pytesseract\r\n",
    "from PIL import Image"
   ]
  },
  {
   "cell_type": "code",
   "execution_count": 2,
   "metadata": {},
   "outputs": [],
   "source": [
    "img_file = \"data/page_01.jpg\"\r\n",
    "no_noise = \"temp/no_noise.jpg\""
   ]
  },
  {
   "cell_type": "code",
   "execution_count": 3,
   "metadata": {},
   "outputs": [],
   "source": [
    "img = Image.open(no_noise)"
   ]
  },
  {
   "cell_type": "code",
   "execution_count": 4,
   "metadata": {},
   "outputs": [],
   "source": [
    "ocr_result = pytesseract.image_to_string(img)"
   ]
  },
  {
   "cell_type": "code",
   "execution_count": 5,
   "metadata": {},
   "outputs": [
    {
     "name": "stdout",
     "output_type": "stream",
     "text": [
      "“GABRIEL Meamall\n",
      "\n",
      "On Easter movning in the year 1944, I took my six-year-old\n",
      "son by the hand and began walking fron my home town toward the\n",
      "valleys and forests of the Carpathizn mountains. For nearly\n",
      "eight months we lived in barns, attics and makeshift eabins. With\n",
      "the gene nous help of an unusually courageous man, we managed to\n",
      "survive Europe's greatest fit of madness. Those who walked in\n",
      "the opposite direction on that Easter day were lese fortunate.\n",
      "They were taken in trainloads to places whose once obscure names\n",
      "are now, and forever will be, synonymous with terror, evil and\n",
      "death. What follows is our story of survival told to the best\n",
      "of my ability, in plain, simple language.\n",
      "\n",
      "In March of 1944 the SS troops took over the internal affairs\n",
      "of Hungary and proceeded to organize the deportation of the dows.\n",
      "To the Nazie thie was a routine assignment; within hours all local\n",
      "officials were informed of operational plans. The high command\n",
      "issued a directive designed to placate Jewish fears and induce\n",
      "cooperation. It was announced that the Jews would be shipped to\n",
      "Poland as an emergency labor force and that they were only being\n",
      "drafted for temporary work. There were many who believed this\n",
      "version. Others, less credulous, resigred themselves and hoped for\n",
      "the vest. Still others began to make plans for escape. By Aprii\n",
      "13 the Hungarian Jews were being rounded up from all over the .\n",
      "country in what was once a huge brick factory. The rest is well\n",
      "known. :\n",
      "\n",
      "J was working in Ungvar and usually came home on weekends.\n",
      "\n",
      "At that time it was no longer possible for a Jew to travel freely.\n",
      "\n",
      " \n",
      "\f\n"
     ]
    }
   ],
   "source": [
    "print (ocr_result)"
   ]
  }
 ],
 "metadata": {
  "interpreter": {
   "hash": "5a3f384334a6e8a7bddcdbc25b85bac046edd1d912b0a063cde408800cd39eab"
  },
  "kernelspec": {
   "display_name": "Python 3.9.5 64-bit",
   "name": "python3"
  },
  "language_info": {
   "codemirror_mode": {
    "name": "ipython",
    "version": 3
   },
   "file_extension": ".py",
   "mimetype": "text/x-python",
   "name": "python",
   "nbconvert_exporter": "python",
   "pygments_lexer": "ipython3",
   "version": "3.9.5"
  },
  "orig_nbformat": 4
 },
 "nbformat": 4,
 "nbformat_minor": 2
}